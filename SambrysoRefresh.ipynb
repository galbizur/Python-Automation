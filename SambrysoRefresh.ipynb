{
 "cells": [
  {
   "cell_type": "markdown",
   "id": "dba397e6",
   "metadata": {},
   "source": [
    "<h3>This script opens Chrome to a particular dashboard\n",
    "and refreshes every 15 minutes to keep up with demand and changes\n",
    "Quits out of the browser promptly after the shift is over.</h3>"
   ]
  },
  {
   "cell_type": "code",
   "execution_count": 2,
   "id": "5d5cb48d",
   "metadata": {},
   "outputs": [],
   "source": [
    "\n",
    "from selenium import webdriver\n",
    "import time\n",
    "\n",
    "driver = webdriver.Chrome()\n",
    "drivertwo = webdriver.Chrome()\n",
    "driver.get('https://t.corp.amazon.com/issues/?q=extensions.tt.status%3A%28Assigned%20OR%20Researching%20OR%20%22Work%20In%20Progress%22%20OR%20Pending%29%20AND%20extensions.tt.assignedGroup%3A%22OpsTechIT-SIL2%22') \n",
    "drivertwo.get('https://logistics.amazon.com/station/dashboard/overview') \n",
    "#driver.maximize_window()\n",
    "#drivertwo.maximize_window()\n",
    "y = 60*15\n",
    "for x in range(1,3):\n",
    "    time.sleep(20)\n",
    "    driver.refresh()\n",
    "    drivertwo.refresh()\n",
    "driver.quit()\n",
    "drivertwo.quit()"
   ]
  }
 ],
 "metadata": {
  "kernelspec": {
   "display_name": "Python 3",
   "language": "python",
   "name": "python3"
  },
  "language_info": {
   "codemirror_mode": {
    "name": "ipython",
    "version": 3
   },
   "file_extension": ".py",
   "mimetype": "text/x-python",
   "name": "python",
   "nbconvert_exporter": "python",
   "pygments_lexer": "ipython3",
   "version": "3.8.10"
  }
 },
 "nbformat": 4,
 "nbformat_minor": 5
}
